


import os
import glob
import numpy as np
import pandas as pd
from astropy.io import fits, ascii
from astropy.table import Table, vstack
import astropy.units as u
from scipy import interpolate
import matplotlib.pyplot as plt

import astropy.units as u
from astropy.coordinates import SkyCoord

from time import time

import grizli
print(grizli.__version__)

from grizli import utils, multifit
from grizli.pipeline import auto_script

import glob

from specutils import Spectrum1D
from specutils.manipulation import gaussian_smooth, FluxConservingResampler, LinearInterpolatedResampler


utils.set_warnings()





f444w = ascii.read('/Users/fhasan/Desktop/Research_STScI/POPPIES/Data/Par002/jw05398033_F444W_i2d.cat')

f277w = ascii.read('/Users/fhasan/Desktop/Research_STScI/POPPIES/Data/Par002/jw05398035_F277W_i2d.cat')

c1 = SkyCoord(f277w['RA']*u.deg,f277w['DEC']*u.deg, frame='icrs')
c2 = SkyCoord(f444w['RA']*u.deg,f444w['DEC']*u.deg, frame='icrs')

# sep = c1.separation(c2)
# sep  

# for i in c1:
#     sp = i.separation(c2)
#     print(np.min(sp.arcsecond))

idx, d2d, d3d = c1.match_to_catalog_sky(c2)



print(inds)
inds = np.where(idx == 3)[0]
d2d.arcsecond[inds]






# main directory
research_directory = '/Users/fhasan/Desktop/Research_STScI/'
main_directory = '/Users/fhasan/Desktop/Research_STScI/POPPIES/'
par_names = ['002']

par_names_2 = ['Par052']

# # grism data directory
# spec1D_directory = main_directory+'Data/'+par_names[0]+'/spec1D/'

# # where all the parallel field data live
# data_directory = main_directory+'Data/'+par_names[0]+'/'

# grism data directory
# spec1D_directory = main_directory+'ReducedData_downloadedcopy/'+par_names[0]+'/spec1D/'

# where all the parallel field data live
# data_directory = main_directory+'ReducedData_downloadedcopy/v0.2/'+par_names[0]+'/'

data_directory = main_directory+'ReducedData_downloadedcopy/v0.2/'+par_names[0]+'/jw05398033_jw05398030_ext/'

data_directory_2 = main_directory+'Data/Par'+par_names[0]+'/'


# os.chdir(spec1D_directory)





f0 = fits.open(data_directory+'A_F444W_R_1332.V4.fits')

f2 = fits.open(research_directory+'PASSAGE/Data/' +par_names_2[0]+ '/spec1D/'+par_names_2[0]+'_00005.spec1D.fits') ## open PASSAGE FITS file for reference

f3 = fits.open(research_directory+'PASSAGE/Data/' +par_names_2[0]+ '/spec2D/'+par_names_2[0]+'_00005.spec2D.fits') ## open PASSAGE FITS file for reference


# f4 = fits.open(research_directory+'PASSAGE/Data/'+par_names_2[0]+ '/DATA/'+par_names_2[0]+'_f150w-gr150r_drz_sci.fits') ## open PASSAGE FITS file for reference


# g = fits.open(data_directory+'A/'+'jw05398040_A_F444W_i2d.fits')

# for i in range(len(hdulist)):
#     header = f[i].header

print('POPPIES\n',f0[1].header)
print('\n')

print('PASSAGE\n',f2[1].header)


f3[29].header, g[1].header, 


if f0[2].header['EXTNAME'] in ["2D_COUNT"]:
    print('hah')


f0.info(), f2.info(), f3.info()


f3[2].header


f0[2].header

# f3[2].header


seg1 = fits.open(data_directory+'A/'+'jw05398040_A_F444W_segm.fits')

# seg1 = fits.open(data_directory+'A/'+'jw05398040_A_F444W_i2d_seg.fits')

seg2 = fits.open(research_directory+'PASSAGE/Data/Par28/'+'Par28_comb_seg.fits') ## open PASSAGE FITS file for reference

np.shape(seg1[0].data), np.shape(seg2[0].data)

seg1.info(), seg2.info()


seg1[0].header


phcat = ascii.read(data_directory+'A/'+'jw05398040_A_F444W_i2d.cat')

phcat2 = fits.open(research_directory+'PASSAGE/Data/Par28/DATA/DIRECT_GRISM/'+'Par28_photcat.fits') ## open PASSAGE FITS file for reference



phcat


spec_cat =  glob.glob(data_directory_2+'DATA/DIRECT_GRISM/*_A_*_i2d.cat') 

spec_cat








#check if already updated for first object. If yes -> do nothing, if not -> update RADESYS in all fits headers

# for k in par_names:
#     files = glob.glob(main_directory+'Data/Par'+str(k)+'/spec2D/*.fits')
#     test_file = fits.open(files[0])
#     header = test_file[2].header
    
#     if header['RADESYS'] != 'ICRS':
#         print('Headers are not updated. Updating all now.')
#         hdulist = fits.open(main_directory+'Data/'+str(k)+'/spec2D/*.fits')

#         for j in files:
#             # Open the file header for viewing and load the header
#             hdulist = fits.open(j)
#             for i in range(len(hdulist)):
#                 header = hdulist[i].header
#                 try: header['RADESYS'] = 'ICRS'
#                 except: print('no RADESYS in header')
            
#             hdulist.writeto(j, overwrite='True')


k = 40

# for k in par_names:


files = glob.glob(main_directory+'Data/Par'+str(k)+'/spec1D/*.fits')


for i in range(len(files)):

    print(files[i])
    test_file = fits.open(files[i])
    header = test_file[2].header

    if header['RADESYS'] != 'ICRS':
        print('Header not updated. Updating now.')
        hdulist = fits.open(main_directory+'Data/Par'+str(k)+'/spec1D/*.fits')
        try: header['RADESYS'] = 'ICRS'
        except: print('no RADESYS in header')

    test_file.writeto(files[i], overwrite='True')

# print(test_file.info(), header['RADESYS'])

# if header['RADESYS'] != 'ICRS':
#     print('Headers are not updated. Updating all now.')
#     hdulist = fits.open(main_directory+'Data/'+str(k)+'/spec2D/*.fits')

#     for j in files:
#         # Open the file header for viewing and load the header
#         hdulist = fits.open(j)
#         for i in range(len(hdulist)):
#             header = hdulist[i].header
#             try: header['RADESYS'] = 'ICRS'
#             except: print('no RADESYS in header')
        
#         hdulist.writeto(j, overwrite='True')






# ### function from MDR for MUDF project:


# def resample_muse_spectra(idx, verbose = False):

#     main_dir = '/Users/mrevalski/Documents/stsci/research/mudf/analysis/metallicity'
#     plot_dir = main_dir+'/plots'
#     run11_dir = main_dir+'/run11/wisp_analysis/'
#     from scipy import interpolate
    
#     if (verbose == True):
#         print('Resampling MUSE Spectra for object', idx)
    
#     import numpy as np
#     import astropy.units as u
#     from specutils import Spectrum1D
#     from specutils.manipulation import gaussian_smooth, FluxConservingResampler, LinearInterpolatedResampler

#     #idx = 856
#     specfile = run11_dir + 'Par0/Spectra/Par0_output_run11_final/fitdata/' + 'mudf_' + str(idx) + '_fitspec.dat' #M.D.R#
#     specdata = asciitable.read(specfile, fill_values=[('--', '-99')])

#     ##### get spectrum
#     lam_spec = specdata['Lam']
#     flam_spec = specdata['Flam']
#     flam_spec_err = specdata['Flam_err']
#     mask_spec = specdata['Masked']
#     cont_spec = specdata['Contmodel']    
#     contam_spec = specdata['Contam']
    
#     if (lam_spec[0] > 9500): # if no muse spectrum for this object.
#         if (verbose == True):
#             print('NO MUSE SPECTRUM FOR THIS OBJECT.')
#         return lam_spec, flam_spec, flam_spec_err, cont_spec, mask_spec

#     lamb1 = lam_spec[0:3796] * u.AA
#     flux1 = flam_spec[0:3796] * u.Unit('erg cm-2 s-1 AA-1')
#     ferr1 = flam_spec_err[0:3796] * u.Unit('erg cm-2 s-1 AA-1')
#     cont1 = cont_spec[0:3796] * u.Unit('erg cm-2 s-1 AA-1')
#     mask1 = mask_spec[0:3796]

#     lamb2 = lam_spec[3796:len(lam_spec)] * u.AA
#     flux2 = flam_spec[3796:len(flam_spec)] * u.Unit('erg cm-2 s-1 AA-1')
#     ferr2 = flam_spec_err[3796:len(flam_spec_err)] * u.Unit('erg cm-2 s-1 AA-1')
#     cont2 = cont_spec[3796:len(cont_spec)] * u.Unit('erg cm-2 s-1 AA-1')
#     mask2 = mask_spec[3796:len(mask_spec)]

#     input_spec = Spectrum1D(spectral_axis=lamb1, flux=flux1)
#     input_ferr = Spectrum1D(spectral_axis=lamb1, flux=ferr1)
#     input_cont = Spectrum1D(spectral_axis=lamb1, flux=cont1)

#     # Smoothed.
#     spec1_gsmooth = gaussian_smooth(input_spec, stddev=(21.5/1.25)) # set based on grism and confirm flux conservation.
#     ferr1_gsmooth = gaussian_smooth(input_ferr, stddev=(21.5/1.25)) # set based on grism and confirm flux conservation.
#     cont1_gsmooth = gaussian_smooth(input_cont, stddev=(21.5/1.25)) # set based on grism and confirm flux conservation.

#     # Resampled.
#     new_disp_grid = np.arange(lam_spec[0], lam_spec[3796], 21.5) * u.AA
#     #print('The new grid has length:', len(new_disp_grid))
#     fluxcon = FluxConservingResampler()
#     new_spec_fluxcon = fluxcon(spec1_gsmooth, new_disp_grid)
#     new_ferr_fluxcon = fluxcon(ferr1_gsmooth, new_disp_grid)
#     new_cont_fluxcon = fluxcon(cont1_gsmooth, new_disp_grid)
    
#     # Masks.
#     mask_func = interpolate.interp1d(lam_spec, mask_spec, fill_value = -1, bounds_error = False, kind = 'nearest')
#     mask_new = mask_func(new_disp_grid)
#     #print('Mask before resamp:', mask_spec)
#     #print('Mask after resamp:', mask_new)
#     #print('length of new Mask:', len(mask_new))
#     #print('Type:', type(mask_new), type(mask2.value))
#     mask_resamp = np.concatenate((np.array(mask_new), np.array(mask2.value)))
    
#     # Replace flux values.
#     spec1 = Spectrum1D(spectral_axis=new_spec_fluxcon.spectral_axis, flux=new_spec_fluxcon.flux)
#     spec2 = Spectrum1D(spectral_axis=lamb2, flux=flux2)
#     new_spectral_axis = np.concatenate([spec1.spectral_axis.value, spec2.spectral_axis.to_value(spec1.spectral_axis.unit)]) * spec1.spectral_axis.unit
#     resampler = LinearInterpolatedResampler(extrapolation_treatment='zero_fill')
#     new_spec1 = resampler(spec1, new_spectral_axis)
#     new_spec2 = resampler(spec2, new_spectral_axis)
#     final_spec = new_spec1 + new_spec2

#     # Replace ferr values.
#     ferr1 = Spectrum1D(spectral_axis=new_ferr_fluxcon.spectral_axis, flux=new_ferr_fluxcon.flux)
#     ferr2 = Spectrum1D(spectral_axis=lamb2, flux=ferr2)
#     new_ferr_axis = np.concatenate([ferr1.spectral_axis.value, ferr2.spectral_axis.to_value(ferr1.spectral_axis.unit)]) * ferr1.spectral_axis.unit
#     resampler = LinearInterpolatedResampler(extrapolation_treatment='zero_fill')
#     new_ferr1 = resampler(ferr1, new_spectral_axis)
#     new_ferr2 = resampler(ferr2, new_spectral_axis)
#     final_ferr = new_ferr1 + new_ferr2
    
#     # Replace cont values.
#     cont1 = Spectrum1D(spectral_axis=new_cont_fluxcon.spectral_axis, flux=new_cont_fluxcon.flux)
#     cont2 = Spectrum1D(spectral_axis=lamb2, flux=cont2)
#     new_cont_axis = np.concatenate([cont1.spectral_axis.value, cont2.spectral_axis.to_value(cont1.spectral_axis.unit)]) * cont1.spectral_axis.unit
#     resampler = LinearInterpolatedResampler(extrapolation_treatment='zero_fill')
#     new_cont1 = resampler(cont1, new_spectral_axis)
#     new_cont2 = resampler(cont2, new_spectral_axis)
#     final_cont = new_cont1 + new_cont2

#     # Plot the original and resampled.
#     f, ax = matplotlib.pyplot.subplots(figsize=(11,6))
#     ax.step(final_spec.spectral_axis, final_spec.flux, where='mid', c='k', lw=2)
#     ax.step(spec1.spectral_axis, spec1.flux, ls='--', where='mid', lw=1) 
#     ax.step(spec2.spectral_axis, spec2.flux, ls='--', where='mid', lw=1)
#     ax.step(input_spec.spectral_axis, input_spec.flux, label='MUSE', color='C0', zorder=-3) # original
#     ax.set_xlim([4000, 17000])
#     ax.set_ylim([-2.0e-19, 8.0e-19])
#     ax.step(lam_spec, flam_spec_err, label='Error (original)', color='purple', zorder=-2)
#     ax.step(final_ferr.spectral_axis, final_ferr.flux, ls='--', where='mid', c='C2', lw=2, zorder=-2)
#     #ax.step(lam_spec, cont_spec, label='Continuum (original)', color='gold', zorder=-2)
#     #ax.step(final_cont.spectral_axis, final_cont.flux, ls='--', where='mid', c='C2', lw=2, zorder=-2)    
#     #matplotlib.pyplot.show()
#     matplotlib.pyplot.close()
    
#     return final_spec.spectral_axis.value, final_spec.flux.value, final_ferr.flux.value, final_cont.flux.value, mask_resamp



# New function appropriate for POPPIES:


def resample_spectra_eg(idx, disp_blue=10, disp_red=10, verbose = True, plots=False):

    # main_dir = main_directory
    # plot_dir = main_dir+'/plots'
    run_dir = main_directory + 'Data/{}'.format(str(par_names[0])) + '/spec1D/' 

    if (verbose == True):
        print('Resampling POPPIES Spectra for object ', idx)
    
    specfile = run_dir + 'A_F444W_GRISMR_{}.V4.fits'.format(str(idx))

    fff = fits.open(specfile)
    
    ext = 1
    
    specdata = Table.read(fff[ext], format='fits')
    # specdata = pd.DataFrame({})

    # print(specdata)
    
    # specdata = asciitable.read(specfile, fill_values=[('--', '-99')])

    # dtype=(numpy.record, [('WAVELENGTH', '>f8'), ('COUNT', '>f8'), ('ERR', '>f8'), ('MODEL', '>f8'), ('MODELFLUX', '>f8'), ('CONTAM', '>f8'), ('CONTAMFLUX', '>f8'), ('OPT', '>f8'), ('TFLUX', '>f8'), ('FLUX', '>f8'), ('OPTFLUX', '>f8'), ('FLUXERR', '>f8'), ('OPTFLUXERR', '>f8')]))

    ##### get spectrum
    lam_spec = specdata['WAVELENGTH'] * 10000  ## micron to AA
    flam_spec = specdata['OPTFLUX']
    flam_spec_err = specdata['OPTFLUXERR']
    # mask_spec = specdata['Masked']
    cont_spec = specdata['MODELFLUX']    
    contam_spec = specdata['CONTAMFLUX']

    good_inds = np.where((~np.isnan(lam_spec))&(~np.isnan(flam_spec)))[0]
    
    # if (lam_spec[0] > 9500): # if no muse spectrum for this object.
    #     if (verbose == True):
    #         print('NO MUSE SPECTRUM FOR THIS OBJECT.')
    #     return lam_spec, flam_spec, flam_spec_err, cont_spec, mask_spec

    lamb1 = lam_spec[good_inds] * u.AA
    flux1 = flam_spec[good_inds] * u.Unit('erg cm-2 s-1 AA-1')
    ferr1 = flam_spec_err[good_inds] * u.Unit('erg cm-2 s-1 AA-1')
    cont1 = cont_spec[good_inds] * u.Unit('erg cm-2 s-1 AA-1')
    # mask1 = mask_spec

    # lamb2 = lam_spec[3796:len(lam_spec)] * u.AA
    # flux2 = flam_spec[3796:len(flam_spec)] * u.Unit('erg cm-2 s-1 AA-1')
    # ferr2 = flam_spec_err[3796:len(flam_spec_err)] * u.Unit('erg cm-2 s-1 AA-1')
    # cont2 = cont_spec[3796:len(cont_spec)] * u.Unit('erg cm-2 s-1 AA-1')
    # mask2 = mask_spec[3796:len(mask_spec)]
    
    input_spec = Spectrum1D(spectral_axis=lamb1, flux=flux1)
    input_ferr = Spectrum1D(spectral_axis=lamb1, flux=ferr1)
    input_cont = Spectrum1D(spectral_axis=lamb1, flux=cont1)

    # Smoothed.
    spec1_gsmooth = gaussian_smooth(input_spec, stddev=(disp_blue/disp_red)) # set based on grism and confirm flux conservation.
    ferr1_gsmooth = gaussian_smooth(input_ferr, stddev=(disp_blue/disp_red)) # set based on grism and confirm flux conservation.
    cont1_gsmooth = gaussian_smooth(input_cont, stddev=(disp_blue/disp_red)) # set based on grism and confirm flux conservation.

    # Resampled.
    new_disp_grid = np.arange(lam_spec[good_inds][0], lam_spec[good_inds][-1], 10) * u.AA
    #print('The new grid has length:', len(new_disp_grid))
    fluxcon = FluxConservingResampler()
    new_spec_fluxcon = fluxcon(spec1_gsmooth, new_disp_grid)
    new_ferr_fluxcon = fluxcon(ferr1_gsmooth, new_disp_grid)
    new_cont_fluxcon = fluxcon(cont1_gsmooth, new_disp_grid)
    
    # # Masks.
    # mask_func = interpolate.interp1d(lam_spec, mask_spec, fill_value = -1, bounds_error = False, kind = 'nearest')
    # mask_new = mask_func(new_disp_grid)
    # #print('Mask before resamp:', mask_spec)
    # #print('Mask after resamp:', mask_new)
    # #print('length of new Mask:', len(mask_new))
    # #print('Type:', type(mask_new), type(mask2.value))
    # mask_resamp = np.concatenate((np.array(mask_new), np.array(mask2.value)))
    
    # Replace flux values.
    spec1 = Spectrum1D(spectral_axis=new_spec_fluxcon.spectral_axis, flux=new_spec_fluxcon.flux)
    # spec2 = Spectrum1D(spectral_axis=lamb2, flux=flux2)
    # new_spectral_axis = np.concatenate([spec1.spectral_axis.value, spec2.spectral_axis.to_value(spec1.spectral_axis.unit)]) * spec1.spectral_axis.unit
    new_spectral_axis = spec1.spectral_axis.value * spec1.spectral_axis.unit

    resampler = LinearInterpolatedResampler(extrapolation_treatment='zero_fill')
    new_spec1 = resampler(spec1, new_spectral_axis)
    # new_spec2 = resampler(spec2, new_spectral_axis)
    # final_spec = new_spec1 + new_spec2
    final_spec = new_spec1

    # Replace ferr values.
    ferr1 = Spectrum1D(spectral_axis=new_ferr_fluxcon.spectral_axis, flux=new_ferr_fluxcon.flux)
    # ferr2 = Spectrum1D(spectral_axis=lamb2, flux=ferr2)
    # new_ferr_axis = np.concatenate([ferr1.spectral_axis.value, ferr2.spectral_axis.to_value(ferr1.spectral_axis.unit)]) * ferr1.spectral_axis.unit
    new_ferr_axis = ferr1.spectral_axis.value * ferr1.spectral_axis.unit

    resampler = LinearInterpolatedResampler(extrapolation_treatment='zero_fill')
    new_ferr1 = resampler(ferr1, new_spectral_axis)
    
    # new_ferr2 = resampler(ferr2, new_spectral_axis)
    final_ferr = new_ferr1 

    
    # Replace cont values.
    cont1 = Spectrum1D(spectral_axis=new_cont_fluxcon.spectral_axis, flux=new_cont_fluxcon.flux)
    # cont2 = Spectrum1D(spectral_axis=lamb2, flux=cont2)
    new_cont_axis = cont1.spectral_axis.value * cont1.spectral_axis.unit
    resampler = LinearInterpolatedResampler(extrapolation_treatment='zero_fill')
    new_cont1 = resampler(cont1, new_spectral_axis)
    # new_cont2 = resampler(cont2, new_spectral_axis)
    final_cont = new_cont1


    if plots == True:

        
        # Plot the original and resampled.
        f, ax = plt.subplots(figsize=(15,10))
        ax.step(final_spec.spectral_axis, final_spec.flux, where='mid', label = 'smoothed', c='k', lw=3)
        # ax.step(spec1.spectral_axis, spec1.flux, ls='--', where='mid', lw=1) 
        # ax.step(spec2.spectral_axis, spec2.flux, ls='--', where='mid', lw=1)
        ax.step(input_spec.spectral_axis, input_spec.flux, label='original', lw=2, color='dodgerblue', zorder=-3) # original
        ax.set_xlim([37000,42000])
        # ax.set_ylim([-2.0e-19, 8.0e-19])
        ax.step(lam_spec, flam_spec_err, label='Error (original)', color='purple', lw=2, zorder=-2)
        ax.step(final_ferr.spectral_axis, final_ferr.flux, ls='--', where='mid', label='Error (smoothed)', c='C2', lw=3, zorder=-2)
        #ax.step(lam_spec, cont_spec, label='Continuum (original)', color='gold', zorder=-2)
        #ax.step(final_cont.spectral_axis, final_cont.flux, ls='--', where='mid', c='C2', lw=2, zorder=-2)    
        #matplotlib.pyplot.show()
        plt.xlabel(r'$\lambda~[\mathrm{\AA}]$',fontsize=24)
        plt.ylabel(r'$f_{\lambda}~[\mathrm{erg/s/cm^2/\AA}]$',fontsize=24)
        plt.title(r'POPPIES {} - Object {}'.format(str(par_names[0]),str(idx)),fontsize=32)
        plt.legend(loc='best',fontsize=28)
        plt.tight_layout() 

        plt.savefig(main_directory+'Plots/{}_A_F444W_GRISMR_{}.V4_smooth.pdf'.format(str(par_names[0]),str(idx)),bbox_inches='tight')
        
        plt.show()
    
    
    return final_spec.spectral_axis.value, final_spec.flux.value, final_ferr.flux.value, final_cont.flux.value



## test on some objects
resample_spectra_eg(428,disp_blue=10,disp_red=10,plots=True)


## For use in all the spectra below:

def resample_spectra(specfile, disp_blue=10, disp_red=10, verbose = True, plots=False):

    ''' 
    For a given file
    '''
    # main_dir = main_directory
    # plot_dir = main_dir+'/plots'
    # run_dir = main_directory + 'Data/{}'.format(str(par_names[0])) + '/spec1D/' 

    if (verbose == True):
        print('Resampling POPPIES Spectra for file ', specfile)
    
    # specfile = run_dir + 'A_F444W_GRISMR_{}.V4.fits'.format(str(idx))

    fff = fits.open(specfile)
    
    ext = 1
    
    specdata = Table.read(fff[ext], format='fits')
    # specdata = pd.DataFrame({})

    # print(specdata)
    
    # specdata = asciitable.read(specfile, fill_values=[('--', '-99')])

    ##### get spectrum
    lam_spec = specdata['WAVELENGTH'] * 10000  ## micron to AA
    flam_spec = specdata['OPTFLUX']
    flam_spec_err = specdata['OPTFLUXERR']
    # mask_spec = specdata['Masked']
    cont_spec = specdata['MODELFLUX']    
    contam_spec = specdata['CONTAMFLUX']

    good_inds = np.where((~np.isnan(lam_spec))&(~np.isnan(flam_spec)))[0]

    lamb1 = lam_spec[good_inds] * u.AA
    flux1 = flam_spec[good_inds] * u.Unit('erg cm-2 s-1 AA-1')
    ferr1 = flam_spec_err[good_inds] * u.Unit('erg cm-2 s-1 AA-1')
    cont1 = cont_spec[good_inds] * u.Unit('erg cm-2 s-1 AA-1')
    # mask1 = mask_spec

    # lamb2 = lam_spec[3796:len(lam_spec)] * u.AA
    # flux2 = flam_spec[3796:len(flam_spec)] * u.Unit('erg cm-2 s-1 AA-1')
    # ferr2 = flam_spec_err[3796:len(flam_spec_err)] * u.Unit('erg cm-2 s-1 AA-1')
    # cont2 = cont_spec[3796:len(cont_spec)] * u.Unit('erg cm-2 s-1 AA-1')
    # mask2 = mask_spec[3796:len(mask_spec)]
    
    input_spec = Spectrum1D(spectral_axis=lamb1, flux=flux1)
    input_ferr = Spectrum1D(spectral_axis=lamb1, flux=ferr1)
    input_cont = Spectrum1D(spectral_axis=lamb1, flux=cont1)

    # Smoothed.
    spec1_gsmooth = gaussian_smooth(input_spec, stddev=(disp_blue/disp_red)) # set based on grism and confirm flux conservation.
    ferr1_gsmooth = gaussian_smooth(input_ferr, stddev=(disp_blue/disp_red)) # set based on grism and confirm flux conservation.
    cont1_gsmooth = gaussian_smooth(input_cont, stddev=(disp_blue/disp_red)) # set based on grism and confirm flux conservation.

    # Resampled.
    new_disp_grid = np.arange(lam_spec[good_inds][0], lam_spec[good_inds][-1], 10) * u.AA
    #print('The new grid has length:', len(new_disp_grid))
    fluxcon = FluxConservingResampler()
    new_spec_fluxcon = fluxcon(spec1_gsmooth, new_disp_grid)
    new_ferr_fluxcon = fluxcon(ferr1_gsmooth, new_disp_grid)
    new_cont_fluxcon = fluxcon(cont1_gsmooth, new_disp_grid)
    
    # # Masks.
    # mask_func = interpolate.interp1d(lam_spec, mask_spec, fill_value = -1, bounds_error = False, kind = 'nearest')
    # mask_new = mask_func(new_disp_grid)
    # #print('Mask before resamp:', mask_spec)
    # #print('Mask after resamp:', mask_new)
    # #print('length of new Mask:', len(mask_new))
    # #print('Type:', type(mask_new), type(mask2.value))
    # mask_resamp = np.concatenate((np.array(mask_new), np.array(mask2.value)))
    
    # Replace flux values.
    spec1 = Spectrum1D(spectral_axis=new_spec_fluxcon.spectral_axis, flux=new_spec_fluxcon.flux)
    # spec2 = Spectrum1D(spectral_axis=lamb2, flux=flux2)
    # new_spectral_axis = np.concatenate([spec1.spectral_axis.value, spec2.spectral_axis.to_value(spec1.spectral_axis.unit)]) * spec1.spectral_axis.unit
    new_spectral_axis = spec1.spectral_axis.value * spec1.spectral_axis.unit

    resampler = LinearInterpolatedResampler(extrapolation_treatment='zero_fill')
    new_spec1 = resampler(spec1, new_spectral_axis)
    # new_spec2 = resampler(spec2, new_spectral_axis)
    # final_spec = new_spec1 + new_spec2
    final_spec = new_spec1

    # Replace ferr values.
    ferr1 = Spectrum1D(spectral_axis=new_ferr_fluxcon.spectral_axis, flux=new_ferr_fluxcon.flux)
    # ferr2 = Spectrum1D(spectral_axis=lamb2, flux=ferr2)
    # new_ferr_axis = np.concatenate([ferr1.spectral_axis.value, ferr2.spectral_axis.to_value(ferr1.spectral_axis.unit)]) * ferr1.spectral_axis.unit
    new_ferr_axis = ferr1.spectral_axis.value * ferr1.spectral_axis.unit

    resampler = LinearInterpolatedResampler(extrapolation_treatment='zero_fill')
    new_ferr1 = resampler(ferr1, new_spectral_axis)
    
    # new_ferr2 = resampler(ferr2, new_spectral_axis)
    final_ferr = new_ferr1 

    
    # Replace cont values.
    cont1 = Spectrum1D(spectral_axis=new_cont_fluxcon.spectral_axis, flux=new_cont_fluxcon.flux)
    # cont2 = Spectrum1D(spectral_axis=lamb2, flux=cont2)
    new_cont_axis = cont1.spectral_axis.value * cont1.spectral_axis.unit
    resampler = LinearInterpolatedResampler(extrapolation_treatment='zero_fill')
    new_cont1 = resampler(cont1, new_spectral_axis)
    # new_cont2 = resampler(cont2, new_spectral_axis)
    final_cont = new_cont1


    if plots == True:

        
        # Plot the original and resampled.
        f, ax = plt.subplots(figsize=(15,10))
        ax.step(final_spec.spectral_axis, final_spec.flux, where='mid', label = 'smoothed', c='k', lw=3)
        # ax.step(spec1.spectral_axis, spec1.flux, ls='--', where='mid', lw=1) 
        # ax.step(spec2.spectral_axis, spec2.flux, ls='--', where='mid', lw=1)
        ax.step(input_spec.spectral_axis, input_spec.flux, label='original', lw=2, color='dodgerblue', zorder=-3) # original
        ax.set_xlim([37000,40000])
        # ax.set_ylim([-2.0e-19, 8.0e-19])
        ax.step(lam_spec, flam_spec_err, label='Error (original)', color='purple', lw=2, zorder=-2)
        ax.step(final_ferr.spectral_axis, final_ferr.flux, ls='--', where='mid', label='Error (smoothed)', c='C2', lw=3, zorder=-2)
        #ax.step(lam_spec, cont_spec, label='Continuum (original)', color='gold', zorder=-2)
        #ax.step(final_cont.spectral_axis, final_cont.flux, ls='--', where='mid', c='C2', lw=2, zorder=-2)    
        #matplotlib.pyplot.show()
        plt.xlabel(r'$\lambda~[\mathrm{\AA}]$',fontsize=24)
        plt.ylabel(r'$f_{\lambda}~[\mathrm{erg/s/cm^2/\AA}]$',fontsize=24)
        plt.title(r'POPPIES {} - Object {}'.format(str(par_names[0]),str(idx)),fontsize=32)
        plt.legend(loc='best',fontsize=28)
        plt.tight_layout() 

        plt.savefig(main_directory+'Plots/{}_smooth.pdf'.format(str(specfile)),bbox_inches='tight',dpi=200)
        
        plt.show()
    
    
    return final_spec.spectral_axis.value, final_spec.flux.value, final_ferr.flux.value, final_cont.flux.value









# flag for creating the output files regardless of whehter they already exist
# True = create new files
# False = create new files only if they do not exist 
create_files_anyway = True


### OLD Way -- without smoothing

par_names = ['Par40']

for i in par_names:
    
    # try:os.mkdir(data_directory)
    # except:print('I did not make your directory')
    # try:
    #     os.chdir(data_directory)
    #     os.mkdir('Spectra')
    # except:print('I did not make your directory')

    dir = main_directory + 'Data/' + str(i) + '/spec1D/'

    dir0 = main_directory + 'Data/' + str(i) + '/'
    
    os.chdir(dir)
    print('moving to:', dir)
    
    files = sorted(glob.glob('*.fits'))

    # Check if converted files already exist. If they do not, carry on with the conversion. 
    # Otherwise, this step can be skipped. 
    # Here, I just check if there are more converted files than objects (there can be 1-3 per object)
    # depending on how many filters are available for each object
    already_converted_files = glob.glob(data_directory + 'Spectra/*.dat')
    if len(files) >= len(already_converted_files) or create_files_anyway == True:
        print(len(already_converted_files))
        print(len(files))
    
        print('\nThere are ' + str(len(files)) + ' POPPIES files to convert.\n')
        
        for f in files:
            os.chdir(dir)
            #os.chdir(spec1D_directory+par_names[0]+'/')
            fff = fits.open(f)
            print(fff.info())

            # print(os.getcwd())
            
            # for ext in range(1, len(fff)):

            ext = 1
            
            tb = Table.read(fff[ext], format='fits').to_pandas()
            t_out = pd.DataFrame({})

            
            t_out['wave'] = tb['WAVELENGTH'] * 10000 #micron to A
            
            # t_out['flux'] = tb['FLUX']
            # t_out['error'] = tb['FLUXERR']

            t_out['flux'] = tb['OPTFLUX']
            t_out['error'] = tb['OPTFLUXERR']

            t_out['contam'] = tb['CONTAMFLUX']
            t_out['zeroth'] = np.zeros(len(tb['WAVELENGTH'])).astype('int')
            t_out = Table.from_pandas(t_out)
            t_out = t_out.filled(0.0) # Replace nans with zeros
            # Spectra dispersed beyond the chip have zero fluxes that must be replaced to prevent crashes in fitting.
            t_out['flux'][np.where(t_out['flux'] == 0.0)] = np.median(t_out['flux'][np.where(t_out['flux'] != 0.0)])
            t_out['error'][np.where(t_out['error'] == 0.0)]=np.median(t_out['error'][np.where(t_out['error'] != 0.0)])

            print('saving to '+ dir0 + 'Spectra' )
            os.chdir(dir0 + 'Spectra' )

            # Write out the updated files.
            # if fff[ext].header['EXTNAME'] == 'F200W':

            print('base ',os.path.basename(f))

            # _indexes_ = [i for i in range(len(fff[ext].data))]
            
            # try:_indexes_ = [i for i in _indexes_ if t_out['wave'][i] > max(Table.read(fff[ext-1])['wave']) ]
            # except:pass
            t_out.write(os.path.basename(f).replace('.fits', '_1D.dat'), 
                    format='ascii.fixed_width_two_line', overwrite=True)      


                                       
            # # Write out the updated files.
            # if fff[ext].header['EXTNAME'] == 'F150W':
            #     #t_out.write(os.path.basename(f).replace('1D.fits', 'G150_1D_uncomb.dat'), 
            #     t_out.write(os.path.basename(f).replace('1D.fits', 'G150_1D.dat'), 
            #             format='ascii.fixed_width_two_line', overwrite=True)
                
            # elif fff[ext].header['EXTNAME'] == 'F115W':
            #     t_out.write(os.path.basename(f).replace('1D.fits', 'G115_1D.dat'), 
            #             format='ascii.fixed_width_two_line', overwrite=True)


                                       
        # # THE BELOW IS NO LONGER NEEDED. 
    
        # # Now that the .dat files have been created/updated, need to combine the F200W with the F150W
        # # # since the next code expects only 2 grism filters.
        # # os.chdir(data_directory + '/Spectra' )

        # # target_dir = data_directory + 'Spectra'
        # # F200s = glob.glob(target_dir+'/*G200_1D.dat')
        
        # # for i in range(len(F200s)):
        #     # F150s = F200s[i].split('G200_1D.dat')[0]+str('G150_1D_uncomb.dat')
        #     # tb_200 = Table.read(F200s[i], format='ascii')
        #     # if os.path.exists(F150s):
        #         # tb_150 = Table.read(F150s, format='ascii')
                    
        #     # tout = vstack([tb_150, tb_200])
        #     # print(os.path.basename(F150s).replace('G150_1D_uncomb.dat', 'G150_1D.dat'))
                
        #     # tout.write(os.path.basename(F150s).replace('G150_1D_uncomb.dat', 'G150_1D.dat'), 
        #                     # format='ascii.fixed_width_two_line', overwrite=True)


    else: print('It appears the .dat files were already created for this field. Skipping this step.')
    



### New way - with smoothing

par_names = ['Par40']

for i in par_names:
    
    # try:os.mkdir(data_directory)
    # except:print('I did not make your directory')
    # try:
    #     os.chdir(data_directory)
    #     os.mkdir('Spectra')
    # except:print('I did not make your directory')

    dir = main_directory + 'Data/' + str(i) + '/spec1D/'

    dir0 = main_directory + 'Data/' + str(i) + '/'
    
    os.chdir(dir)
    print('moving to:', dir)
    
    files = sorted(glob.glob('*.fits'))

    # Check if converted files already exist. If they do not, carry on with the conversion. 
    # Otherwise, this step can be skipped. 
    # Here, I just check if there are more converted files than objects (there can be 1-3 per object)
    # depending on how many filters are available for each object
    already_converted_files = glob.glob(data_directory + 'Spectra/*.dat')
    
    if len(files) >= len(already_converted_files) or create_files_anyway == True:
        print(len(already_converted_files))
        print(len(files))
    
        print('\nThere are ' + str(len(files)) + ' POPPIES files to convert.\n')
        
        for f in files:
            os.chdir(dir)
            #os.chdir(spec1D_directory+par_names[0]+'/')

            print(f)

            t_out = pd.DataFrame({})

            wave, flux, err, cont = resample_spectra(f, disp_blue=10, disp_red=10)
            
            # fff = fits.open(f)
            # print(fff.info())

            # print(os.getcwd())
            
            # for ext in range(1, len(fff)):

            # ext = 1
            
            # tb = Table.read(fff[ext], format='fits').to_pandas()
            # t_out = pd.DataFrame({})
            
            t_out['wave'] = wave
            
            t_out['flux'] = flux
            t_out['error'] = err

            t_out['contam'] = cont

            t_out['zeroth'] = np.zeros(len(wave)).astype('int')
            t_out = Table.from_pandas(t_out)
            
            t_out = t_out.filled(0.0) # Replace nans with zeros
            
            # Spectra dispersed beyond the chip have zero fluxes that must be replaced to prevent crashes in fitting.
            t_out['flux'][np.where(t_out['flux'] == 0.0)] = np.median(t_out['flux'][np.where(t_out['flux'] != 0.0)])
            t_out['error'][np.where(t_out['error'] == 0.0)]=np.median(t_out['error'][np.where(t_out['error'] != 0.0)])

            print('saving to '+ dir0 + 'Spectra' )
            os.chdir(dir0 + 'Spectra' )

            # Write out the updated files.
            # if fff[ext].header['EXTNAME'] == 'F200W':

            print('base ',os.path.basename(f))

            # _indexes_ = [i for i in range(len(fff[ext].data))]
            
            # try:_indexes_ = [i for i in _indexes_ if t_out['wave'][i] > max(Table.read(fff[ext-1])['wave']) ]
            # except:pass
            t_out.write(os.path.basename(f).replace('.fits', '_1D.dat'), 
                    format='ascii.fixed_width_two_line', overwrite=True)      
                                    

    else: print('It appears the .dat files were already created for this field. Skipping this step.')
    



os.getcwd()


np.linspace(38800,50840,16)


filename = 'A_F444W_GRISMC_6.V4_1D.dat'

filename.split('GRISM')[1].split('_')[1].split('.')[0]





# f4 = fits.open(research_directory+'PASSAGE/Data/Par28/DATA/'+'Par28_f150w-gr150r_drz_sci.fits') ## open PASSAGE FITS file for reference

# g = fits.open(data_directory+'A/'+'jw05398040_A_F444W_i2d.fits')

temp_passage = ascii.read(research_directory+'PASSAGE/Output/linelist/temp')

temp_poppies = ascii.read(research_directory+'POPPIES/Output/linelist/temp')



temp_poppies


os.getcwd()





photcat_file = glob.glob(data_directory+'DATA/DIRECT_GRISM/*_photcat.fits')
photcat = Table.read(photcat_file[0])

speccat_file = glob.glob(data_directory+'DATA/DIRECT_GRISM/*_speccat.fits')
speccat =  Table.read(speccat_file[0])



def make_table(tb):
    t_out = pd.DataFrame({})
    t_out['wave'] = tb['wave']
    t_out['flux'] = tb['flux']/tb['flat']
    t_out['error'] = tb['err']/tb['flat']
    t_out['contam'] = tb['contam']/tb['flat']
    t_out['zeroth'] = np.zeros(len(tb['wave'])).astype('int')
    t_out = Table.from_pandas(t_out)
    t_out = t_out.filled(0.0) # Replace nans with zeros
    # Spectra dispersed beyond the chip have zero fluxes that must be replaced to prevent crashes in fitting.
    t_out['flux'][np.where(t_out['flux'] == 0.0)] = np.median(t_out['flux'][np.where(t_out['flux'] != 0.0)])
    t_out['error'][np.where(t_out['error'] == 0.0)]=np.median(t_out['error'][np.where(t_out['error'] != 0.0)])

    return t_out




for i in par_names:
    beam_files = glob.glob(data_directory + 'beams/*.beams.fits')
    os.chdir(data_directory + 'Spectra/')
    start = time()

    for j in beam_files:
        id = int(j.split('/')[-1].split('_')[1].split('.')[0])
        z = speccat['redshift'][[k for k in range(len(speccat)) if speccat['id'][k] == id]]

        mb = multifit.MultiBeam(j, fcontam=0.1, sys_err=0.02,
                        min_sens=0.05, MW_EBV=-1, group_name='', verbose=False)

        Cgrism_beams = [mb.beams[k] for k in range(len(mb.beams)) if  mb.beams[k].grism.filter == 'GR150C']
        Rgrism_beams = [mb.beams[k] for k in range(len(mb.beams)) if  mb.beams[k].grism.filter == 'GR150R']
        
        if len(Cgrism_beams) > 0:
            mb_C = multifit.MultiBeam(beams=Cgrism_beams, fcontam=0.1, sys_err=0.02, 
                        min_sens=0.05, MW_EBV=-1, group_name='')
            
            # this catches cases where spectrum contains only zeros (very rare)
            # The fit will crash in such cases
            try:
                tfitC = mb_C.template_at_z(z, fitter='bounded')
                keys_C = mb_C.oned_spectrum(tfit=tfitC, bin=1).keys()
            except: keys_C = mb_C.oned_spectrum(bin=1).keys()
            
            for c in keys_C:
                t_out = make_table(mb_C.oned_spectrum(tfit=tfitC, bin=1)[c])
                t_out.write(os.path.basename(j).replace('beams.fits', c+'_1D_C.dat'), 
                            format='ascii.fixed_width_two_line', overwrite=True)

        if len(Rgrism_beams) > 0:
            mb_R = multifit.MultiBeam(beams=Rgrism_beams, fcontam=0.1, sys_err=0.02, 
                        min_sens=0.05, MW_EBV=-1, group_name='')

            # this catches cases where spectrum contains only zeros (very rare)
            # The fit will crash in such cases
            try:
                tfitR = mb_R.template_at_z(z, fitter='bounded')
                keys_R = mb_R.oned_spectrum(tfit=tfitR, bin=1).keys()
            except: keys_R = mb_R.oned_spectrum(bin=1).keys()
                
            for r in keys_R:
                t_out = make_table(mb_R.oned_spectrum(tfit=tfitR, bin=1)[r])
                t_out.write(os.path.basename(j).replace('beams.fits', r+'_1D_R.dat'), 
                            format='ascii.fixed_width_two_line', overwrite=True)


        end = time()
        print(end - start)





plt.plot(mb_R.oned_spectrum()['F115W']['wave'], mb_R.oned_spectrum()['F115W']['flux'])
plt.plot(mb_R.oned_spectrum()['F115W']['wave'], mb_R.oned_spectrum()['F115W']['contam'])


import matplotlib.pylab as plt


from astropy.io import ascii as asc



base_path = "/Users/knedkova/Work/2024PASSAGE/data/"+ "Par"+ str(28)+ "/Spectra/Par"+ str(28)+ "_" + str(6).zfill(5)

specnameg1_R = (base_path + ".F115W_1D_R.dat")
specnameg2_R = (base_path + ".F150W_1D_R.dat")
specnameg3_R = (base_path + ".F200W_1D_R.dat")



tab_blue_R = asc.read(specnameg2_R, names=["lambda","flux","ferror","contam","zero"])
tab_blue_R_contam = np.copy(tab_blue_R)
tab_blue_R_contam["flux"] = tab_blue_R["flux"] + tab_blue_R["contam"]  


tab_blue_R


tab_blue_R_contam["flux"] = tab_blue_R["flux"] + tab_blue_R["contam"]  


tab_blue_R_contam


tab_blue_R


plt.plot( tab_blue_R_contam['flux'] - tab_blue_R['flux'], 'k-')
plt.plot( tab_blue_R_contam['contam'], 'r-')
plt.show()


contam



